{
 "cells": [
  {
   "cell_type": "code",
   "execution_count": 1,
   "id": "f9323383-caf1-4e5a-8462-352489c4df41",
   "metadata": {},
   "outputs": [
    {
     "data": {
      "text/plain": [
       "'3.10.2 (main, Mar  4 2022, 02:09:05) [GCC 9.3.0]'"
      ]
     },
     "execution_count": 1,
     "metadata": {},
     "output_type": "execute_result"
    }
   ],
   "source": [
    "import sys\n",
    "sys.version"
   ]
  },
  {
   "cell_type": "code",
   "execution_count": 2,
   "id": "f297f3ea-044a-4e87-b8f7-220bab3e432e",
   "metadata": {},
   "outputs": [
    {
     "ename": "NameError",
     "evalue": "name 'platform_python_version' is not defined",
     "output_type": "error",
     "traceback": [
      "\u001b[0;31m---------------------------------------------------------------------------\u001b[0m",
      "\u001b[0;31mNameError\u001b[0m                                 Traceback (most recent call last)",
      "\u001b[0;32m/tmp/ipykernel_85/1843033593.py\u001b[0m in \u001b[0;36m<cell line: 2>\u001b[0;34m()\u001b[0m\n\u001b[1;32m      1\u001b[0m \u001b[0;32mimport\u001b[0m \u001b[0mplatform\u001b[0m\u001b[0;34m\u001b[0m\u001b[0;34m\u001b[0m\u001b[0m\n\u001b[0;32m----> 2\u001b[0;31m \u001b[0mplatform_python_version\u001b[0m\u001b[0;34m(\u001b[0m\u001b[0;34m)\u001b[0m\u001b[0;34m\u001b[0m\u001b[0;34m\u001b[0m\u001b[0m\n\u001b[0m",
      "\u001b[0;31mNameError\u001b[0m: name 'platform_python_version' is not defined"
     ]
    }
   ],
   "source": [
    "import platform\n",
    "platform_python_version()"
   ]
  },
  {
   "cell_type": "code",
   "execution_count": 3,
   "id": "75802fc1-9eba-4865-a700-78c07b92da26",
   "metadata": {},
   "outputs": [
    {
     "data": {
      "text/plain": [
       "'3.10.2'"
      ]
     },
     "execution_count": 3,
     "metadata": {},
     "output_type": "execute_result"
    }
   ],
   "source": [
    "import platform\n",
    "platform.python_version()"
   ]
  },
  {
   "cell_type": "code",
   "execution_count": 4,
   "id": "1d8a5381-bd5c-4614-9d4a-878bd8b2bd41",
   "metadata": {},
   "outputs": [
    {
     "name": "stdout",
     "output_type": "stream",
     "text": [
      "Python 3.10.2\n"
     ]
    }
   ],
   "source": [
    "!python --version"
   ]
  },
  {
   "cell_type": "code",
   "execution_count": 9,
   "id": "3c915c35-1dfb-4550-afd6-6c756d046cb8",
   "metadata": {},
   "outputs": [],
   "source": [
    "a = \"hi\""
   ]
  },
  {
   "cell_type": "code",
   "execution_count": 10,
   "id": "2ff6f7af-8705-4ac5-943c-11fb8496a7cf",
   "metadata": {},
   "outputs": [],
   "source": [
    "b = \"Hi\" #assignment operator is = here"
   ]
  },
  {
   "cell_type": "code",
   "execution_count": 11,
   "id": "252d7ec1-bbf4-4e75-8695-723b622ea99a",
   "metadata": {},
   "outputs": [
    {
     "data": {
      "text/plain": [
       "False"
      ]
     },
     "execution_count": 11,
     "metadata": {},
     "output_type": "execute_result"
    }
   ],
   "source": [
    "a == b #condition"
   ]
  },
  {
   "cell_type": "code",
   "execution_count": 12,
   "id": "30864e41-07ec-43bc-9b3a-ae043fd20209",
   "metadata": {},
   "outputs": [],
   "source": [
    "c = 'hello'"
   ]
  },
  {
   "cell_type": "code",
   "execution_count": 13,
   "id": "b23802fc-998c-44b9-b63c-fd1956c87763",
   "metadata": {},
   "outputs": [
    {
     "data": {
      "text/plain": [
       "str"
      ]
     },
     "execution_count": 13,
     "metadata": {},
     "output_type": "execute_result"
    }
   ],
   "source": [
    "type (c)"
   ]
  },
  {
   "cell_type": "code",
   "execution_count": 14,
   "id": "854bdba6-6c4e-42a2-ba0e-0c8b9e493dfc",
   "metadata": {},
   "outputs": [],
   "source": [
    "x = 10"
   ]
  },
  {
   "cell_type": "code",
   "execution_count": 15,
   "id": "dc8e0f09-c4d9-481e-baa4-da45764bbc5c",
   "metadata": {},
   "outputs": [
    {
     "data": {
      "text/plain": [
       "int"
      ]
     },
     "execution_count": 15,
     "metadata": {},
     "output_type": "execute_result"
    }
   ],
   "source": [
    "type (x)"
   ]
  },
  {
   "cell_type": "code",
   "execution_count": 20,
   "id": "404f34ac-92f5-429a-bcd2-e91279cc01c2",
   "metadata": {},
   "outputs": [],
   "source": [
    "y = 10.5"
   ]
  },
  {
   "cell_type": "code",
   "execution_count": 18,
   "id": "81caeb34-9c0e-4c01-a14a-226de5802702",
   "metadata": {},
   "outputs": [
    {
     "data": {
      "text/plain": [
       "float"
      ]
     },
     "execution_count": 18,
     "metadata": {},
     "output_type": "execute_result"
    }
   ],
   "source": [
    "type(y)"
   ]
  },
  {
   "cell_type": "code",
   "execution_count": 19,
   "id": "5e8c4b6c-5bbc-4714-ad64-863535d2dd60",
   "metadata": {},
   "outputs": [
    {
     "name": "stdout",
     "output_type": "stream",
     "text": [
      "Hello World\n"
     ]
    }
   ],
   "source": [
    "print(\"Hello World\")"
   ]
  },
  {
   "cell_type": "code",
   "execution_count": 21,
   "id": "85aec8be-c28b-4c6c-8e96-c88398e2de20",
   "metadata": {},
   "outputs": [
    {
     "name": "stdout",
     "output_type": "stream",
     "text": [
      "we need 3 double quotes\n",
      "if we have date in more\n",
      "than one line\n"
     ]
    }
   ],
   "source": [
    "print(\"\"\"we need 3 double quotes\n",
    "if we have date in more\n",
    "than one line\"\"\")"
   ]
  },
  {
   "cell_type": "code",
   "execution_count": 23,
   "id": "10a76256-e90c-47d1-9cb3-6927a267c6a1",
   "metadata": {},
   "outputs": [
    {
     "data": {
      "text/plain": [
       "float"
      ]
     },
     "execution_count": 23,
     "metadata": {},
     "output_type": "execute_result"
    }
   ],
   "source": [
    "type(var1)"
   ]
  },
  {
   "cell_type": "code",
   "execution_count": 31,
   "id": "4d9e222a-9aed-41ca-ade4-e9b859878c37",
   "metadata": {},
   "outputs": [
    {
     "name": "stdout",
     "output_type": "stream",
     "text": [
      "Variabes can be a-Z A-z 0-9_\n",
      "variable should not start with a number\n",
      "1var1 --> This is incorrect\n",
      "Only _ is allowes as special character\n",
      "keywords cannot be variable. Ex: type, for etc cannot be a variable\n",
      "it is not recommended to strt a variable with _\n"
     ]
    }
   ],
   "source": [
    "#Variable\n",
    "print(\"\"\"Variabes can be a-Z A-z 0-9_\n",
    "variable should not start with a number\n",
    "1var1 --> This is incorrect\n",
    "Only _ is allowes as special character\n",
    "keywords cannot be variable. Ex: type, for etc cannot be a variable\n",
    "it is not recommended to strt a variable with _\"\"\")"
   ]
  },
  {
   "cell_type": "code",
   "execution_count": 22,
   "id": "a47b037e-f5fa-4e85-9534-866c5ee93adb",
   "metadata": {},
   "outputs": [],
   "source": [
    "_var1 = 12.12"
   ]
  },
  {
   "cell_type": "code",
   "execution_count": 30,
   "id": "5029663c-e4da-4f09-9223-126871a7ff0f",
   "metadata": {},
   "outputs": [
    {
     "ename": "NameError",
     "evalue": "name '_var1' is not defined",
     "output_type": "error",
     "traceback": [
      "\u001b[0;31m---------------------------------------------------------------------------\u001b[0m",
      "\u001b[0;31mNameError\u001b[0m                                 Traceback (most recent call last)",
      "\u001b[0;32m/tmp/ipykernel_85/169610707.py\u001b[0m in \u001b[0;36m<cell line: 1>\u001b[0;34m()\u001b[0m\n\u001b[0;32m----> 1\u001b[0;31m \u001b[0mtype\u001b[0m\u001b[0;34m(\u001b[0m\u001b[0m_var1\u001b[0m\u001b[0;34m)\u001b[0m\u001b[0;34m\u001b[0m\u001b[0;34m\u001b[0m\u001b[0m\n\u001b[0m",
      "\u001b[0;31mNameError\u001b[0m: name '_var1' is not defined"
     ]
    }
   ],
   "source": [
    "type(_var1)"
   ]
  },
  {
   "cell_type": "code",
   "execution_count": 32,
   "id": "59056674-35a4-401e-8ca4-3ce6a033ab76",
   "metadata": {},
   "outputs": [],
   "source": [
    "#python operators"
   ]
  },
  {
   "cell_type": "code",
   "execution_count": 47,
   "id": "df31eb5c-17e1-44c6-a395-17903e755bef",
   "metadata": {},
   "outputs": [],
   "source": [
    "## Arithmetic Operators"
   ]
  },
  {
   "cell_type": "code",
   "execution_count": 33,
   "id": "7f720faa-cefa-4f70-b9e5-6aa97715a80c",
   "metadata": {},
   "outputs": [
    {
     "data": {
      "text/plain": [
       "20"
      ]
     },
     "execution_count": 33,
     "metadata": {},
     "output_type": "execute_result"
    }
   ],
   "source": [
    "10+10"
   ]
  },
  {
   "cell_type": "code",
   "execution_count": 34,
   "id": "529c17c7-a9d4-4b2b-b2c6-a0cf9efd02fb",
   "metadata": {},
   "outputs": [
    {
     "data": {
      "text/plain": [
       "12"
      ]
     },
     "execution_count": 34,
     "metadata": {},
     "output_type": "execute_result"
    }
   ],
   "source": [
    "10+2"
   ]
  },
  {
   "cell_type": "code",
   "execution_count": 35,
   "id": "3bb144d1-c42e-4136-a43c-17bb13fae247",
   "metadata": {},
   "outputs": [
    {
     "data": {
      "text/plain": [
       "5.0"
      ]
     },
     "execution_count": 35,
     "metadata": {},
     "output_type": "execute_result"
    }
   ],
   "source": [
    "10/2"
   ]
  },
  {
   "cell_type": "code",
   "execution_count": 36,
   "id": "68c50989-5737-4ac2-8a29-14a244a308fa",
   "metadata": {},
   "outputs": [
    {
     "data": {
      "text/plain": [
       "5"
      ]
     },
     "execution_count": 36,
     "metadata": {},
     "output_type": "execute_result"
    }
   ],
   "source": [
    "10//2"
   ]
  },
  {
   "cell_type": "code",
   "execution_count": 37,
   "id": "0eca95b5-948b-4998-938b-7c7a7bf00407",
   "metadata": {},
   "outputs": [
    {
     "data": {
      "text/plain": [
       "4.5"
      ]
     },
     "execution_count": 37,
     "metadata": {},
     "output_type": "execute_result"
    }
   ],
   "source": [
    "9/2"
   ]
  },
  {
   "cell_type": "code",
   "execution_count": 38,
   "id": "1d088fa1-bbad-4d20-bd3c-2d49e9d947fe",
   "metadata": {},
   "outputs": [
    {
     "data": {
      "text/plain": [
       "4"
      ]
     },
     "execution_count": 38,
     "metadata": {},
     "output_type": "execute_result"
    }
   ],
   "source": [
    "9//2"
   ]
  },
  {
   "cell_type": "code",
   "execution_count": 39,
   "id": "2b869323-525a-4030-bd0c-1897997613dd",
   "metadata": {},
   "outputs": [
    {
     "data": {
      "text/plain": [
       "1"
      ]
     },
     "execution_count": 39,
     "metadata": {},
     "output_type": "execute_result"
    }
   ],
   "source": [
    "10%3"
   ]
  },
  {
   "cell_type": "code",
   "execution_count": 42,
   "id": "620ba851-518c-4987-b16f-a69e20ddd830",
   "metadata": {},
   "outputs": [],
   "source": [
    "# % gives us remainder"
   ]
  },
  {
   "cell_type": "code",
   "execution_count": 48,
   "id": "42bb9d4d-e15d-4ebc-a2c6-c8f0f50b9742",
   "metadata": {},
   "outputs": [],
   "source": [
    "# Logical Operators"
   ]
  },
  {
   "cell_type": "code",
   "execution_count": 43,
   "id": "09ce3c02-a6f5-499f-8e18-08264cd4ad38",
   "metadata": {},
   "outputs": [
    {
     "data": {
      "text/plain": [
       "True"
      ]
     },
     "execution_count": 43,
     "metadata": {},
     "output_type": "execute_result"
    }
   ],
   "source": [
    "\"i\" in \"Hi\" #Do we have i in Hi? Yes"
   ]
  },
  {
   "cell_type": "code",
   "execution_count": 44,
   "id": "559bdb19-22db-413e-a7ea-7f4508014c15",
   "metadata": {},
   "outputs": [
    {
     "data": {
      "text/plain": [
       "False"
      ]
     },
     "execution_count": 44,
     "metadata": {},
     "output_type": "execute_result"
    }
   ],
   "source": [
    "\"i\" in \"Hi\" and \"x\" in \"hello\" #Logical Operator"
   ]
  },
  {
   "cell_type": "code",
   "execution_count": 45,
   "id": "54eddaf9-bffd-41a8-aa96-541549ae8d65",
   "metadata": {},
   "outputs": [
    {
     "data": {
      "text/plain": [
       "True"
      ]
     },
     "execution_count": 45,
     "metadata": {},
     "output_type": "execute_result"
    }
   ],
   "source": [
    "\"i\" in \"Hi\" or \"x\" in \"hello\" #Logical Operator"
   ]
  },
  {
   "cell_type": "code",
   "execution_count": null,
   "id": "1928334c-9857-48da-b33e-d3cf694075fc",
   "metadata": {},
   "outputs": [],
   "source": []
  }
 ],
 "metadata": {
  "kernelspec": {
   "display_name": "Python 3 [3.10]",
   "language": "python",
   "name": "python3"
  },
  "language_info": {
   "codemirror_mode": {
    "name": "ipython",
    "version": 3
   },
   "file_extension": ".py",
   "mimetype": "text/x-python",
   "name": "python",
   "nbconvert_exporter": "python",
   "pygments_lexer": "ipython3",
   "version": "3.10.2"
  }
 },
 "nbformat": 4,
 "nbformat_minor": 5
}
