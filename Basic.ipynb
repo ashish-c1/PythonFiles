{
 "cells": [
  {
   "cell_type": "code",
   "execution_count": 1,
   "id": "e663961f-6fe7-41f5-99d5-187a797c36f8",
   "metadata": {},
   "outputs": [
    {
     "data": {
      "text/plain": [
       "'3.10.2 (main, Mar  4 2022, 02:09:05) [GCC 9.3.0]'"
      ]
     },
     "execution_count": 1,
     "metadata": {},
     "output_type": "execute_result"
    }
   ],
   "source": [
    "import sys\n",
    "sys.version"
   ]
  },
  {
   "cell_type": "code",
   "execution_count": 2,
   "id": "cf9108ea-437a-4a60-8b1f-b8c861f3c8e7",
   "metadata": {},
   "outputs": [
    {
     "data": {
      "text/plain": [
       "'3.10.2'"
      ]
     },
     "execution_count": 2,
     "metadata": {},
     "output_type": "execute_result"
    }
   ],
   "source": [
    "import platform\n",
    "platform.python_version()"
   ]
  },
  {
   "cell_type": "code",
   "execution_count": 3,
   "id": "be07fe82-983f-4fba-bbda-18c3c992c538",
   "metadata": {},
   "outputs": [
    {
     "name": "stdout",
     "output_type": "stream",
     "text": [
      "Python 3.10.2\n"
     ]
    }
   ],
   "source": [
    "!python --version"
   ]
  },
  {
   "cell_type": "code",
   "execution_count": 4,
   "id": "2f50c20a-75fb-4287-8239-74dc3df70eec",
   "metadata": {},
   "outputs": [],
   "source": [
    "#case sensitive\n",
    "a = \"hi\""
   ]
  },
  {
   "cell_type": "code",
   "execution_count": 5,
   "id": "8010948a-0009-4305-a593-ea609953dc79",
   "metadata": {},
   "outputs": [
    {
     "data": {
      "text/plain": [
       "'hi'"
      ]
     },
     "execution_count": 5,
     "metadata": {},
     "output_type": "execute_result"
    }
   ],
   "source": [
    "a"
   ]
  },
  {
   "cell_type": "code",
   "execution_count": 6,
   "id": "046c9cb7-8ef4-4c6e-b584-5f6cc74d1f21",
   "metadata": {},
   "outputs": [],
   "source": [
    "b= \"Hi\"#assignment"
   ]
  },
  {
   "cell_type": "code",
   "execution_count": 7,
   "id": "73133ced-61f0-4db3-b293-1bde06744a94",
   "metadata": {},
   "outputs": [
    {
     "data": {
      "text/plain": [
       "'Hi'"
      ]
     },
     "execution_count": 7,
     "metadata": {},
     "output_type": "execute_result"
    }
   ],
   "source": [
    "b"
   ]
  },
  {
   "cell_type": "code",
   "execution_count": 8,
   "id": "dbb855c4-3975-489c-81cb-623bd7daa2cb",
   "metadata": {},
   "outputs": [
    {
     "data": {
      "text/plain": [
       "False"
      ]
     },
     "execution_count": 8,
     "metadata": {},
     "output_type": "execute_result"
    }
   ],
   "source": [
    "a == b #condition"
   ]
  },
  {
   "cell_type": "code",
   "execution_count": 9,
   "id": "a4ace39c-b376-40b6-aa0b-dc29dcfe21b0",
   "metadata": {},
   "outputs": [],
   "source": [
    "c = 'hello'"
   ]
  },
  {
   "cell_type": "code",
   "execution_count": 10,
   "id": "bd3f6e3e-97db-4d29-b8af-cc208ca7af43",
   "metadata": {},
   "outputs": [
    {
     "data": {
      "text/plain": [
       "str"
      ]
     },
     "execution_count": 10,
     "metadata": {},
     "output_type": "execute_result"
    }
   ],
   "source": [
    "type(c) #datatype"
   ]
  },
  {
   "cell_type": "code",
   "execution_count": 13,
   "id": "a4e33e3a-1dd7-4dcf-9633-9cb74f9004c5",
   "metadata": {},
   "outputs": [],
   "source": [
    "x = 10.5"
   ]
  },
  {
   "cell_type": "code",
   "execution_count": 14,
   "id": "5bb1f1cc-a42b-4e58-83d0-975e44b3c2a6",
   "metadata": {},
   "outputs": [
    {
     "data": {
      "text/plain": [
       "float"
      ]
     },
     "execution_count": 14,
     "metadata": {},
     "output_type": "execute_result"
    }
   ],
   "source": [
    "type(x)"
   ]
  },
  {
   "cell_type": "code",
   "execution_count": 15,
   "id": "b89ef1ed-5e4e-4db4-a359-1b7cf6ae11b6",
   "metadata": {},
   "outputs": [
    {
     "name": "stdout",
     "output_type": "stream",
     "text": [
      "Hello world\n"
     ]
    }
   ],
   "source": [
    "print('Hello world')"
   ]
  },
  {
   "cell_type": "code",
   "execution_count": 19,
   "id": "8af8a4eb-6527-4206-83ec-60cd487e9b0b",
   "metadata": {},
   "outputs": [
    {
     "name": "stdout",
     "output_type": "stream",
     "text": [
      "Hello world\n"
     ]
    }
   ],
   "source": [
    "print(\"Hello world\")"
   ]
  },
  {
   "cell_type": "code",
   "execution_count": null,
   "id": "c5e37e65-e0f7-463e-8cc6-ee346bd73263",
   "metadata": {},
   "outputs": [],
   "source": [
    "print('Hello world, this is anu's book')"
   ]
  },
  {
   "cell_type": "code",
   "execution_count": 20,
   "id": "da816704-3231-42c9-821d-025de6de206e",
   "metadata": {},
   "outputs": [
    {
     "name": "stdout",
     "output_type": "stream",
     "text": [
      "Hello world, \n",
      "      this is anu's book\n"
     ]
    }
   ],
   "source": [
    "print(\"\"\"Hello world, \n",
    "      this is anu's book\"\"\")"
   ]
  },
  {
   "cell_type": "markdown",
   "id": "a108f6c0-5b50-4bc4-b103-a1f6b470a8e7",
   "metadata": {},
   "source": [
    "# Variable\n",
    "a-z A-z 0-9 _"
   ]
  },
  {
   "cell_type": "code",
   "execution_count": 21,
   "id": "eee0d2e2-d544-4937-8315-5abba00b8bfa",
   "metadata": {},
   "outputs": [],
   "source": [
    "var1 = 15.63"
   ]
  },
  {
   "cell_type": "code",
   "execution_count": 22,
   "id": "77f5a56f-3b92-43e3-9f0b-59c3763930d9",
   "metadata": {},
   "outputs": [
    {
     "ename": "SyntaxError",
     "evalue": "invalid decimal literal (4256868957.py, line 1)",
     "output_type": "error",
     "traceback": [
      "\u001b[0;36m  File \u001b[0;32m\"/tmp/ipykernel_149/4256868957.py\"\u001b[0;36m, line \u001b[0;32m1\u001b[0m\n\u001b[0;31m    1var = 10\u001b[0m\n\u001b[0m    ^\u001b[0m\n\u001b[0;31mSyntaxError\u001b[0m\u001b[0;31m:\u001b[0m invalid decimal literal\n"
     ]
    }
   ],
   "source": [
    "1var = 10"
   ]
  },
  {
   "cell_type": "code",
   "execution_count": 23,
   "id": "1c031c8d-4afa-4691-9654-9b9dd93c40e2",
   "metadata": {},
   "outputs": [],
   "source": [
    "v1ar = 16"
   ]
  },
  {
   "cell_type": "code",
   "execution_count": 24,
   "id": "e2db6b33-5efc-417c-80a8-46a05be80441",
   "metadata": {},
   "outputs": [
    {
     "ename": "SyntaxError",
     "evalue": "invalid syntax (1130130002.py, line 1)",
     "output_type": "error",
     "traceback": [
      "\u001b[0;36m  File \u001b[0;32m\"/tmp/ipykernel_149/1130130002.py\"\u001b[0;36m, line \u001b[0;32m1\u001b[0m\n\u001b[0;31m    my variable = 90\u001b[0m\n\u001b[0m       ^\u001b[0m\n\u001b[0;31mSyntaxError\u001b[0m\u001b[0;31m:\u001b[0m invalid syntax\n"
     ]
    }
   ],
   "source": [
    "my variable = 90"
   ]
  },
  {
   "cell_type": "code",
   "execution_count": 31,
   "id": "8927393a-1409-46ae-b21e-a6071ed458eb",
   "metadata": {},
   "outputs": [],
   "source": [
    "__my_variable = 90"
   ]
  },
  {
   "cell_type": "code",
   "execution_count": 26,
   "id": "2702a399-cd16-4346-a6dd-1b799d3e8d95",
   "metadata": {},
   "outputs": [],
   "source": [
    "type = 14"
   ]
  },
  {
   "cell_type": "code",
   "execution_count": 27,
   "id": "36b4aaf8-420f-4873-ae05-5cf8815caae1",
   "metadata": {},
   "outputs": [
    {
     "data": {
      "text/plain": [
       "14"
      ]
     },
     "execution_count": 27,
     "metadata": {},
     "output_type": "execute_result"
    }
   ],
   "source": [
    "type"
   ]
  },
  {
   "cell_type": "code",
   "execution_count": 28,
   "id": "e7b68335-b9f2-4b76-8782-ba2f204ec4f1",
   "metadata": {},
   "outputs": [
    {
     "ename": "SyntaxError",
     "evalue": "invalid syntax (1232367679.py, line 1)",
     "output_type": "error",
     "traceback": [
      "\u001b[0;36m  File \u001b[0;32m\"/tmp/ipykernel_149/1232367679.py\"\u001b[0;36m, line \u001b[0;32m1\u001b[0m\n\u001b[0;31m    for = 15\u001b[0m\n\u001b[0m        ^\u001b[0m\n\u001b[0;31mSyntaxError\u001b[0m\u001b[0;31m:\u001b[0m invalid syntax\n"
     ]
    }
   ],
   "source": [
    "for = 15"
   ]
  },
  {
   "cell_type": "code",
   "execution_count": 29,
   "id": "f892032d-b6f4-4d1b-a26c-c373fa99be65",
   "metadata": {},
   "outputs": [],
   "source": [
    "input = 25"
   ]
  },
  {
   "cell_type": "code",
   "execution_count": 30,
   "id": "1c69e30d-a8f8-4e7a-a797-326fd1089e01",
   "metadata": {},
   "outputs": [
    {
     "data": {
      "text/plain": [
       "25"
      ]
     },
     "execution_count": 30,
     "metadata": {},
     "output_type": "execute_result"
    }
   ],
   "source": [
    "input "
   ]
  },
  {
   "cell_type": "code",
   "execution_count": 32,
   "id": "ef617b96-6ed4-4bd5-8805-58fe1375e507",
   "metadata": {},
   "outputs": [
    {
     "data": {
      "text/plain": [
       "'1.5.3'"
      ]
     },
     "execution_count": 32,
     "metadata": {},
     "output_type": "execute_result"
    }
   ],
   "source": [
    "import pandas\n",
    "pandas.__version__"
   ]
  },
  {
   "cell_type": "markdown",
   "id": "efcd36ca-4f1b-4826-8ad9-0af73e11f93e",
   "metadata": {},
   "source": [
    "## Arithmetic operators"
   ]
  },
  {
   "cell_type": "code",
   "execution_count": 33,
   "id": "782e5952-66de-474b-855f-17b2712d2016",
   "metadata": {},
   "outputs": [
    {
     "data": {
      "text/plain": [
       "20"
      ]
     },
     "execution_count": 33,
     "metadata": {},
     "output_type": "execute_result"
    }
   ],
   "source": [
    "10 +10"
   ]
  },
  {
   "cell_type": "code",
   "execution_count": 34,
   "id": "875f4948-6745-4f7a-9009-d66d221d3a12",
   "metadata": {},
   "outputs": [
    {
     "data": {
      "text/plain": [
       "5"
      ]
     },
     "execution_count": 34,
     "metadata": {},
     "output_type": "execute_result"
    }
   ],
   "source": [
    "10-5"
   ]
  },
  {
   "cell_type": "code",
   "execution_count": 37,
   "id": "527b0f82-417c-44fb-b931-9e76bc11b802",
   "metadata": {},
   "outputs": [
    {
     "data": {
      "text/plain": [
       "3.3333333333333335"
      ]
     },
     "execution_count": 37,
     "metadata": {},
     "output_type": "execute_result"
    }
   ],
   "source": [
    "10/3"
   ]
  },
  {
   "cell_type": "code",
   "execution_count": 38,
   "id": "a360878a-d88d-42f9-9de6-a130edd28c1c",
   "metadata": {},
   "outputs": [
    {
     "data": {
      "text/plain": [
       "3"
      ]
     },
     "execution_count": 38,
     "metadata": {},
     "output_type": "execute_result"
    }
   ],
   "source": [
    "10//3"
   ]
  },
  {
   "cell_type": "code",
   "execution_count": 39,
   "id": "361d3d08-e2c0-4cde-88ac-0e0edfb74599",
   "metadata": {},
   "outputs": [
    {
     "data": {
      "text/plain": [
       "1"
      ]
     },
     "execution_count": 39,
     "metadata": {},
     "output_type": "execute_result"
    }
   ],
   "source": [
    "10%3"
   ]
  },
  {
   "cell_type": "code",
   "execution_count": 40,
   "id": "76a0cb02-4683-4952-9d24-409c29d3babc",
   "metadata": {},
   "outputs": [
    {
     "data": {
      "text/plain": [
       "30"
      ]
     },
     "execution_count": 40,
     "metadata": {},
     "output_type": "execute_result"
    }
   ],
   "source": [
    "10*3"
   ]
  },
  {
   "cell_type": "code",
   "execution_count": 42,
   "id": "3d5aa7ce-0ee1-471f-8b51-e98ccfc2e15c",
   "metadata": {},
   "outputs": [
    {
     "data": {
      "text/plain": [
       "False"
      ]
     },
     "execution_count": 42,
     "metadata": {},
     "output_type": "execute_result"
    }
   ],
   "source": [
    "\"i\" in \"Hi\" and \"x\" in \"hello\"# in is a membership operator"
   ]
  },
  {
   "cell_type": "code",
   "execution_count": 43,
   "id": "d87211de-ed64-4164-bd24-86c844a77459",
   "metadata": {},
   "outputs": [
    {
     "data": {
      "text/plain": [
       "True"
      ]
     },
     "execution_count": 43,
     "metadata": {},
     "output_type": "execute_result"
    }
   ],
   "source": [
    "\"i\" in \"Hi\" or \"x\" in \"hello\""
   ]
  },
  {
   "cell_type": "code",
   "execution_count": null,
   "id": "bb350c4b-1382-4234-8a24-08245b616a6d",
   "metadata": {},
   "outputs": [],
   "source": []
  }
 ],
 "metadata": {
  "kernelspec": {
   "display_name": "Python 3 [3.10]",
   "language": "python",
   "name": "python3"
  },
  "language_info": {
   "codemirror_mode": {
    "name": "ipython",
    "version": 3
   },
   "file_extension": ".py",
   "mimetype": "text/x-python",
   "name": "python",
   "nbconvert_exporter": "python",
   "pygments_lexer": "ipython3",
   "version": "3.10.2"
  }
 },
 "nbformat": 4,
 "nbformat_minor": 5
}
